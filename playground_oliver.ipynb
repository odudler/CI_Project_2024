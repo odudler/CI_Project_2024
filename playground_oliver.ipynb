{
 "cells": [
  {
   "cell_type": "code",
   "execution_count": null,
   "metadata": {},
   "outputs": [],
   "source": [
    "import numpy as np\n",
    "import pandas as pd\n",
    "import math\n",
    "import os\n",
    "from utils import *\n",
    "from sklearn.model_selection import train_test_split\n",
    "from models import SVDplusplus\n",
    "\n",
    "\n",
    "df_train = pd.read_csv(\"data/data_train.csv\")\n",
    "df_test = pd.read_csv(\"data/sampleSubmission.csv\")\n",
    "args = read_config('config_models.yaml')\n",
    "\n",
    "\n",
    "model = SVDplusplus(args)\n",
    "\n",
    "#train, test = train_test_split(df, test_size=args.test_set_size, random_state=args.random_state)\n",
    "\n",
    "model.train(df_train)\n",
    "\n",
    "model.predict(df_test, output_file=\"output.csv\")\n"
   ]
  },
  {
   "cell_type": "code",
   "execution_count": null,
   "metadata": {},
   "outputs": [],
   "source": []
  }
 ],
 "metadata": {
  "kernelspec": {
   "display_name": "Python 3",
   "language": "python",
   "name": "python3"
  },
  "language_info": {
   "codemirror_mode": {
    "name": "ipython",
    "version": 3
   },
   "file_extension": ".py",
   "mimetype": "text/x-python",
   "name": "python",
   "nbconvert_exporter": "python",
   "pygments_lexer": "ipython3",
   "version": "3.12.3"
  }
 },
 "nbformat": 4,
 "nbformat_minor": 2
}
