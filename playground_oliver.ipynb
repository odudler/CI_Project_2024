{
 "cells": [
  {
   "cell_type": "code",
   "execution_count": 1,
   "metadata": {},
   "outputs": [],
   "source": [
    "import numpy as np\n",
    "import pandas as pd\n",
    "import math\n",
    "import os\n",
    "from utils import *\n",
    "from grid_search import *\n",
    "from models import *\n",
    "import itertools as IT\n"
   ]
  },
  {
   "cell_type": "code",
   "execution_count": 4,
   "metadata": {},
   "outputs": [],
   "source": [
    "def create_submission(model_name, output_file):\n",
    "    args = read_config('config_models.yaml')\n",
    "    data = pd.read_csv(\"data/data_train.csv\")\n",
    "    preds = pd.read_csv(\"data/sampleSubmission.csv\")\n",
    "    model = get_model(model_name, args)\n",
    "    model.train(data)\n",
    "    model.predict(preds, output_file=output_file)"
   ]
  },
  {
   "cell_type": "code",
   "execution_count": 5,
   "metadata": {},
   "outputs": [
    {
     "name": "stdout",
     "output_type": "stream",
     "text": [
      "df_train.shape = (1176952, 3)\n"
     ]
    },
    {
     "name": "stderr",
     "output_type": "stream",
     "text": [
      "w0 = 0.09, cutpoint = ['-2.254', '-1.484', '-0.480', '0.427'] : 100%|██████████| 2500/2500 [1:03:04<00:00,  1.51s/it]\n"
     ]
    },
    {
     "name": "stdout",
     "output_type": "stream",
     "text": [
      "RMSE for BFM: 1.0245805770636436\n"
     ]
    }
   ],
   "source": [
    "create_submission('BFM', 'outputs/BFM_output3.csv')"
   ]
  },
  {
   "cell_type": "code",
   "execution_count": 3,
   "metadata": {},
   "outputs": [
    {
     "name": "stdout",
     "output_type": "stream",
     "text": [
      "Testing {'algorithm': 'oprobit', 'variational': False, 'iteration': 1500, 'dimension': 8, 'use_iu': True, 'use_ii': True}\n",
      "df_train.shape = (941561, 3)\n"
     ]
    },
    {
     "name": "stderr",
     "output_type": "stream",
     "text": [
      "w0 = 0.08, cutpoint = ['-2.037', '-1.304', '-0.346', '0.525'] : 100%|██████████| 1500/1500 [15:04<00:00,  1.66it/s]\n"
     ]
    },
    {
     "name": "stdout",
     "output_type": "stream",
     "text": [
      "Tested {'algorithm': 'oprobit', 'variational': False, 'iteration': 1500, 'dimension': 8, 'use_iu': True, 'use_ii': True}, Score: 0.9719194438649454\n",
      "Testing {'algorithm': 'oprobit', 'variational': False, 'iteration': 1500, 'dimension': 24, 'use_iu': True, 'use_ii': True}\n",
      "df_train.shape = (941561, 3)\n"
     ]
    },
    {
     "name": "stderr",
     "output_type": "stream",
     "text": [
      "w0 = 0.29, cutpoint = ['-2.060', '-1.283', '-0.270', '0.642'] : 100%|██████████| 1500/1500 [29:55<00:00,  1.20s/it]\n"
     ]
    },
    {
     "name": "stdout",
     "output_type": "stream",
     "text": [
      "Tested {'algorithm': 'oprobit', 'variational': False, 'iteration': 1500, 'dimension': 24, 'use_iu': True, 'use_ii': True}, Score: 0.9700690299169843\n",
      "{'algorithm': 'oprobit', 'variational': False, 'iteration': 1500, 'dimension': 24, 'use_iu': True, 'use_ii': True}\n",
      "0.9700690299169843\n"
     ]
    }
   ],
   "source": [
    "df_train = pd.read_csv(\"data/data_train.csv\")\n",
    "best_params, best_score = perform_grid_search(\"BFM\", df_train, 'grid_search_args.yaml')\n",
    "print(best_params)\n",
    "print(best_score)"
   ]
  },
  {
   "cell_type": "code",
   "execution_count": null,
   "metadata": {},
   "outputs": [],
   "source": [
    "#merge two predictions by avereging them, try it out: (ensemble)\n",
    "\n",
    "users1, movies1, preds1 = extract_users_items_predictions(pd.read_csv('outputs/NeuralCF_output.csv'))\n",
    "users2, movies2, preds2 = extract_users_items_predictions(pd.read_csv('outputs/BFM_output.csv'))\n",
    "users3, movies3, preds3 = extract_users_items_predictions(pd.read_csv('outputs/KNN_output.csv'))\n",
    "users4, movies4, preds4 = extract_users_items_predictions(pd.read_csv('outputs/SVDsimple_output.csv'))\n",
    "\n",
    "preds = (preds1 + preds2) / 2.0\n",
    "\n",
    "create_submission_from_array(preds, users1, movies1, 'outputs/ensemble2.csv')"
   ]
  }
 ],
 "metadata": {
  "kernelspec": {
   "display_name": "Python 3",
   "language": "python",
   "name": "python3"
  },
  "language_info": {
   "codemirror_mode": {
    "name": "ipython",
    "version": 3
   },
   "file_extension": ".py",
   "mimetype": "text/x-python",
   "name": "python",
   "nbconvert_exporter": "python",
   "pygments_lexer": "ipython3",
   "version": "3.9.19"
  }
 },
 "nbformat": 4,
 "nbformat_minor": 2
}
