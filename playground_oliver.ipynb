{
 "cells": [
  {
   "cell_type": "code",
   "execution_count": 1,
   "metadata": {},
   "outputs": [],
   "source": [
    "import numpy as np\n",
    "import pandas as pd\n",
    "import math\n",
    "import os\n",
    "from utils import *\n",
    "from grid_search import *\n",
    "from models import *\n",
    "import itertools as IT\n"
   ]
  },
  {
   "cell_type": "code",
   "execution_count": null,
   "metadata": {},
   "outputs": [],
   "source": [
    "data = pd.read_csv(\"data/data_train.csv\")\n",
    "users, movies, predictions = extract_users_items_predictions(data)\n",
    "data_matrix = create_data_matrix(users, movies, predictions)\n",
    "data_matrix[data_matrix == 0] = -10\n",
    "# print(data_matrix)\n",
    "data_norm, mean, std = normalize_columns(data_matrix, 10000, 1000, mask_value=-10)\n",
    "# print(data_norm)\n",
    "# data_denorm = denormalize_columns(data_norm, mean, std)\n",
    "# print(data_denorm)\n",
    "users2, movies2, predictions2 = convert_matrix_to_data(data_matrix, -10)\n",
    "print(users)\n",
    "print(users2[:9])\n",
    "print(movies)\n",
    "print(movies2[:9])\n",
    "print(predictions)\n",
    "print(predictions2[:9])\n",
    "print(data_matrix[0,9])\n",
    "\n",
    "\n",
    "\n",
    "\n",
    "\n"
   ]
  },
  {
   "cell_type": "code",
   "execution_count": 2,
   "metadata": {},
   "outputs": [],
   "source": [
    "def create_submission(model_name, output_file):\n",
    "    args = read_config('config_models.yaml')\n",
    "    data = pd.read_csv(\"data/data_train.csv\")\n",
    "    preds = pd.read_csv(\"data/sampleSubmission.csv\")\n",
    "    model = get_model(model_name, args)\n",
    "    model.train(data)\n",
    "    model.predict(preds, output_file=output_file)"
   ]
  },
  {
   "cell_type": "code",
   "execution_count": 3,
   "metadata": {},
   "outputs": [
    {
     "name": "stdout",
     "output_type": "stream",
     "text": [
      " processing epoch 0\n"
     ]
    },
    {
     "ename": "KeyboardInterrupt",
     "evalue": "",
     "output_type": "error",
     "traceback": [
      "\u001b[0;31m---------------------------------------------------------------------------\u001b[0m",
      "\u001b[0;31mKeyboardInterrupt\u001b[0m                         Traceback (most recent call last)",
      "Cell \u001b[0;32mIn[3], line 1\u001b[0m\n\u001b[0;32m----> 1\u001b[0m \u001b[43mcreate_submission\u001b[49m\u001b[43m(\u001b[49m\u001b[38;5;124;43m'\u001b[39;49m\u001b[38;5;124;43mSVDplusplus\u001b[39;49m\u001b[38;5;124;43m'\u001b[39;49m\u001b[43m,\u001b[49m\u001b[43m \u001b[49m\u001b[38;5;124;43m'\u001b[39;49m\u001b[38;5;124;43moutputs/SVDpp_new.csv\u001b[39;49m\u001b[38;5;124;43m'\u001b[39;49m\u001b[43m)\u001b[49m\n",
      "Cell \u001b[0;32mIn[2], line 6\u001b[0m, in \u001b[0;36mcreate_submission\u001b[0;34m(model_name, output_file)\u001b[0m\n\u001b[1;32m      4\u001b[0m preds \u001b[38;5;241m=\u001b[39m pd\u001b[38;5;241m.\u001b[39mread_csv(\u001b[38;5;124m\"\u001b[39m\u001b[38;5;124mdata/sampleSubmission.csv\u001b[39m\u001b[38;5;124m\"\u001b[39m)\n\u001b[1;32m      5\u001b[0m model \u001b[38;5;241m=\u001b[39m get_model(model_name, args)\n\u001b[0;32m----> 6\u001b[0m \u001b[43mmodel\u001b[49m\u001b[38;5;241;43m.\u001b[39;49m\u001b[43mtrain\u001b[49m\u001b[43m(\u001b[49m\u001b[43mdata\u001b[49m\u001b[43m)\u001b[49m\n\u001b[1;32m      7\u001b[0m model\u001b[38;5;241m.\u001b[39mpredict(preds, output_file\u001b[38;5;241m=\u001b[39moutput_file)\n",
      "File \u001b[0;32m~/Documents/ETH/Master/4.Semester/CILab/Project/CI_Project_2024/models.py:67\u001b[0m, in \u001b[0;36mSVDplusplus.train\u001b[0;34m(self, df)\u001b[0m\n\u001b[1;32m     60\u001b[0m trainset \u001b[38;5;241m=\u001b[39m dataset\u001b[38;5;241m.\u001b[39mbuild_full_trainset()\n\u001b[1;32m     61\u001b[0m svdpp \u001b[38;5;241m=\u001b[39m SVDpp(\n\u001b[1;32m     62\u001b[0m     \u001b[38;5;241m*\u001b[39m\u001b[38;5;241m*\u001b[39m\u001b[38;5;28mself\u001b[39m\u001b[38;5;241m.\u001b[39msvdpp_args\u001b[38;5;241m.\u001b[39m\u001b[38;5;18m__dict__\u001b[39m,\n\u001b[1;32m     63\u001b[0m     verbose\u001b[38;5;241m=\u001b[39m\u001b[38;5;28mself\u001b[39m\u001b[38;5;241m.\u001b[39mverbose,\n\u001b[1;32m     64\u001b[0m     random_state\u001b[38;5;241m=\u001b[39m\u001b[38;5;28mself\u001b[39m\u001b[38;5;241m.\u001b[39mrandom_state,\n\u001b[1;32m     65\u001b[0m     cache_ratings\u001b[38;5;241m=\u001b[39m\u001b[38;5;28;01mTrue\u001b[39;00m,\n\u001b[1;32m     66\u001b[0m )\n\u001b[0;32m---> 67\u001b[0m \u001b[43msvdpp\u001b[49m\u001b[38;5;241;43m.\u001b[39;49m\u001b[43mfit\u001b[49m\u001b[43m(\u001b[49m\u001b[43mtrainset\u001b[49m\u001b[43m)\u001b[49m\n\u001b[1;32m     68\u001b[0m \u001b[38;5;28mself\u001b[39m\u001b[38;5;241m.\u001b[39mmodel \u001b[38;5;241m=\u001b[39m svdpp\n",
      "File \u001b[0;32m~/mambaforge/envs/ci_project_3_9/lib/python3.9/site-packages/surprise/prediction_algorithms/matrix_factorization.pyx:400\u001b[0m, in \u001b[0;36msurprise.prediction_algorithms.matrix_factorization.SVDpp.fit\u001b[0;34m()\u001b[0m\n",
      "File \u001b[0;32m~/mambaforge/envs/ci_project_3_9/lib/python3.9/site-packages/surprise/prediction_algorithms/matrix_factorization.pyx:464\u001b[0m, in \u001b[0;36msurprise.prediction_algorithms.matrix_factorization.SVDpp.sgd\u001b[0;34m()\u001b[0m\n",
      "File \u001b[0;32m~/mambaforge/envs/ci_project_3_9/lib/python3.9/site-packages/surprise/trainset.py:194\u001b[0m, in \u001b[0;36mTrainset.all_ratings\u001b[0;34m(self)\u001b[0m\n\u001b[1;32m    192\u001b[0m \u001b[38;5;28;01mfor\u001b[39;00m u, u_ratings \u001b[38;5;129;01min\u001b[39;00m \u001b[38;5;28mself\u001b[39m\u001b[38;5;241m.\u001b[39mur\u001b[38;5;241m.\u001b[39mitems():\n\u001b[1;32m    193\u001b[0m     \u001b[38;5;28;01mfor\u001b[39;00m i, r \u001b[38;5;129;01min\u001b[39;00m u_ratings:\n\u001b[0;32m--> 194\u001b[0m         \u001b[38;5;28;01myield\u001b[39;00m u, i, r\n",
      "\u001b[0;31mKeyboardInterrupt\u001b[0m: "
     ]
    }
   ],
   "source": [
    "create_submission('SVDplusplus', 'outputs/SVDpp_new2.csv')"
   ]
  },
  {
   "cell_type": "code",
   "execution_count": null,
   "metadata": {},
   "outputs": [],
   "source": [
    "df_train = pd.read_csv(\"data/data_train.csv\")\n",
    "best_params, best_score = perform_grid_search(\"SVDpp\", df_train, 'grid_search_args.yaml')\n",
    "print(best_params)\n",
    "print(best_score)"
   ]
  },
  {
   "cell_type": "code",
   "execution_count": null,
   "metadata": {},
   "outputs": [],
   "source": [
    "#merge two predictions by avereging them, try it out: (ensemble)\n",
    "\n",
    "users1, movies1, preds1 = extract_users_items_predictions(pd.read_csv('outputs/NeuralCF_output.csv'))\n",
    "users2, movies2, preds2 = extract_users_items_predictions(pd.read_csv('outputs/BFM_output.csv'))\n",
    "users3, movies3, preds3 = extract_users_items_predictions(pd.read_csv('outputs/KNN_output.csv'))\n",
    "users4, movies4, preds4 = extract_users_items_predictions(pd.read_csv('outputs/SVDsimple_output.csv'))\n",
    "\n",
    "preds = (preds1 + preds2) / 2.0\n",
    "\n",
    "create_submission_from_array(preds, users1, movies1, 'outputs/ensemble2.csv')"
   ]
  }
 ],
 "metadata": {
  "kernelspec": {
   "display_name": "Python 3",
   "language": "python",
   "name": "python3"
  },
  "language_info": {
   "codemirror_mode": {
    "name": "ipython",
    "version": 3
   },
   "file_extension": ".py",
   "mimetype": "text/x-python",
   "name": "python",
   "nbconvert_exporter": "python",
   "pygments_lexer": "ipython3",
   "version": "3.9.19"
  }
 },
 "nbformat": 4,
 "nbformat_minor": 2
}
